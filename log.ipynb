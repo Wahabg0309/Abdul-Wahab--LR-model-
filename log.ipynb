{
 "cells": [
  {
   "cell_type": "code",
   "execution_count": 173,
   "metadata": {},
   "outputs": [],
   "source": [
    "import pandas as pd \n",
    "import numpy as np \n",
    "from sklearn.preprocessing import LabelEncoder\n",
    "import matplotlib.pyplot as plt\n",
    "from sklearn.metrics import accuracy_score"
   ]
  },
  {
   "cell_type": "code",
   "execution_count": 174,
   "metadata": {},
   "outputs": [],
   "source": [
    "df = pd.read_csv(\"C:/Users/MasteR/Desktop/weather.csv\")\n",
    "X = df.drop('Rain',axis=1)\n",
    "y = df['Rain']\n",
    "encoder = LabelEncoder()\n",
    "y = encoder.fit_transform(y)\n",
    "#Data Normalization\n",
    "meanX = np.mean(X,axis=0)\n",
    "stdX = np.std(X,axis=0)\n",
    "X = (X - meanX)/stdX\n",
    "m,col = X.shape\n",
    "ones = np.ones((m,1))\n",
    "X = np.hstack((ones,X))\n",
    "theta = np.random.randn(col+1,1)\n",
    "iterations = 2500\n",
    "alpha = 0.001"
   ]
  },
  {
   "cell_type": "code",
   "execution_count": 175,
   "metadata": {},
   "outputs": [],
   "source": [
    "#Hypothesis\n",
    "def sigmoid(z):\n",
    "    return 1 / (1+np.exp(-z))"
   ]
  },
  {
   "cell_type": "code",
   "execution_count": 176,
   "metadata": {},
   "outputs": [
    {
     "name": "stdout",
     "output_type": "stream",
     "text": [
      "[0.53597897]\n"
     ]
    }
   ],
   "source": [
    "#Cost function\n",
    "def cost_func(X,y,theta):\n",
    "    hypothesis = sigmoid(np.dot(X,theta))\n",
    "    j = -(1/m) * (np.dot(y.T,np.log(hypothesis)) + np.dot((1-y).T,np.log(1-hypothesis)))\n",
    "    return j\n",
    "c = cost_func(X,y,theta)\n",
    "print(c)"
   ]
  },
  {
   "cell_type": "code",
   "execution_count": 179,
   "metadata": {},
   "outputs": [
    {
     "name": "stdout",
     "output_type": "stream",
     "text": [
      "[[-1.71780389]\n",
      " [-0.55994009]\n",
      " [ 0.5556032 ]\n",
      " [ 0.04681946]\n",
      " [ 1.0377842 ]\n",
      " [ 0.56062824]]\n",
      "[[0.35665032]\n",
      " [0.35660614]\n",
      " [0.35656198]\n",
      " ...\n",
      " [0.28326679]\n",
      " [0.28324801]\n",
      " [0.28322923]]\n"
     ]
    }
   ],
   "source": [
    "#gradient decent\n",
    "def gradient_decent(X,y,theta,alpha,iterations,m):\n",
    "    history = np.zeros((iterations,1))\n",
    "    for i in range(iterations):\n",
    "        prediction = sigmoid(np.dot(X,theta))\n",
    "        error = prediction - y.reshape(-1,1)\n",
    "        loss = (np.dot(X.T,error))*alpha/m\n",
    "        theta = theta - loss\n",
    "        history[i] = cost_func(X,y,theta)\n",
    "    return(history,theta)\n",
    "(h,theta) = gradient_decent(X,y,theta,alpha,m,iterations)\n",
    "print(theta)\n",
    "print(h)"
   ]
  },
  {
   "cell_type": "code",
   "execution_count": 180,
   "metadata": {},
   "outputs": [
    {
     "name": "stdout",
     "output_type": "stream",
     "text": [
      "The accuracy of our model during training 89.68\n"
     ]
    }
   ],
   "source": [
    "#Making predictions\n",
    "def predict(X,theta):\n",
    "    prediction = sigmoid(np.dot(X,theta))\n",
    "    return[1 if p >= 0.5 else 0 for p in prediction]\n",
    "prediction = predict(X,theta)\n",
    "\n",
    "accuracy = np.mean(prediction == y)\n",
    "print(f\"The accuracy of our model during training {accuracy *100:.2f}\")"
   ]
  },
  {
   "cell_type": "code",
   "execution_count": null,
   "metadata": {},
   "outputs": [],
   "source": []
  }
 ],
 "metadata": {
  "kernelspec": {
   "display_name": "Python 3",
   "language": "python",
   "name": "python3"
  },
  "language_info": {
   "codemirror_mode": {
    "name": "ipython",
    "version": 3
   },
   "file_extension": ".py",
   "mimetype": "text/x-python",
   "name": "python",
   "nbconvert_exporter": "python",
   "pygments_lexer": "ipython3",
   "version": "3.13.0"
  }
 },
 "nbformat": 4,
 "nbformat_minor": 2
}
